{
 "cells": [
  {
   "cell_type": "code",
   "execution_count": null,
   "id": "1191217d-73a7-40ff-8067-febd3afda55d",
   "metadata": {},
   "outputs": [],
   "source": []
  }
 ],
 "metadata": {
  "kernelspec": {
   "display_name": "",
   "name": ""
  },
  "language_info": {
   "name": ""
  }
 },
 "nbformat": 4,
 "nbformat_minor": 5
}
